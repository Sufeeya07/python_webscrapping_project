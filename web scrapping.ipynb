{
 "cells": [
  {
   "cell_type": "code",
   "execution_count": 3,
   "id": "2376cc63-5cba-4b87-b23d-d8ad12375f0b",
   "metadata": {},
   "outputs": [],
   "source": [
    "import requests\n",
    "from bs4 import BeautifulSoup as bs\n",
    "from urllib.request import urlopen as uReq  # urllib provide as functionality , to automatical url open\n",
    "import logging"
   ]
  },
  {
   "cell_type": "code",
   "execution_count": 8,
   "id": "4efd4d10-2fe5-45b4-b57e-d1008d181614",
   "metadata": {},
   "outputs": [],
   "source": [
    "# base url \n",
    "# iphone11 as input , we can also change it \n",
    "\n",
    "flipkart_url ='https://www.flipkart.com/search?q=' +'iphone12pro' "
   ]
  },
  {
   "cell_type": "code",
   "execution_count": 9,
   "id": "c79ee2db-be07-477d-80b6-efd194299711",
   "metadata": {},
   "outputs": [
    {
     "data": {
      "text/plain": [
       "'https://www.flipkart.com/search?q=iphone12pro'"
      ]
     },
     "execution_count": 9,
     "metadata": {},
     "output_type": "execute_result"
    }
   ],
   "source": [
    "flipkart_url"
   ]
  },
  {
   "cell_type": "code",
   "execution_count": 17,
   "id": "b0325adb-0567-439d-ab78-ac5a62ea7f7e",
   "metadata": {},
   "outputs": [
    {
     "data": {
      "text/plain": [
       "<http.client.HTTPResponse at 0x1ab36ea1ed0>"
      ]
     },
     "execution_count": 17,
     "metadata": {},
     "output_type": "execute_result"
    }
   ],
   "source": [
    "# automatic url open\n",
    "urlclient = uReq(flipkart_url)\n",
    "urlclient"
   ]
  },
  {
   "cell_type": "code",
   "execution_count": 18,
   "id": "ddbccee9-5342-427e-ab89-83a996dac0cd",
   "metadata": {},
   "outputs": [],
   "source": [
    "flipkart_page =urlclient.read() # this dump data"
   ]
  },
  {
   "cell_type": "code",
   "execution_count": 25,
   "id": "016d54ea-f225-44f4-b1a0-364ad838aba7",
   "metadata": {},
   "outputs": [],
   "source": [
    "flipkart_html=bs(flipkart_page ,'html.parser')"
   ]
  },
  {
   "cell_type": "code",
   "execution_count": 27,
   "id": "87b07736-f138-410c-a321-dad82535cb59",
   "metadata": {},
   "outputs": [
    {
     "data": {
      "text/plain": [
       "'https://www.flipkart.com/apple-iphone-12-pro-gold-256-gb/p/itm1e0354f5bbc8c?pid=MOBFWBYZ9NGKZS9W&lid=LSTMOBFWBYZ9NGKZS9WYZ2SXA&marketplace=FLIPKART&q=iphone12pro&store=tyy%2F4io&srno=s_1_4&otracker=search&fm=organic&iid=b0783d89-a209-4e71-85ff-69e201eb03e6.MOBFWBYZ9NGKZS9W.SEARCH&ppt=None&ppn=None&ssid=o1gx4m1igg0000001739105295358&qH=712933e6bd68e7b9'"
      ]
     },
     "execution_count": 27,
     "metadata": {},
     "output_type": "execute_result"
    }
   ],
   "source": [
    "# its a mannual approach to make url\n",
    "'https://www.flipkart.com/'+'apple-iphone-12-pro-gold-256-gb/p/itm1e0354f5bbc8c?pid=MOBFWBYZ9NGKZS9W&lid=LSTMOBFWBYZ9NGKZS9WYZ2SXA&marketplace=FLIPKART&q=iphone12pro&store=tyy%2F4io&srno=s_1_4&otracker=search&fm=organic&iid=b0783d89-a209-4e71-85ff-69e201eb03e6.MOBFWBYZ9NGKZS9W.SEARCH&ppt=None&ppn=None&ssid=o1gx4m1igg0000001739105295358&qH=712933e6bd68e7b9'"
   ]
  },
  {
   "cell_type": "code",
   "execution_count": 33,
   "id": "b09661c0-7fdf-41b8-a713-23627d771851",
   "metadata": {},
   "outputs": [],
   "source": [
    "# automatic way\n",
    "big_box = flipkart_html.findAll('div',{\"class\":\"cPHDOP col-12-12\"})"
   ]
  },
  {
   "cell_type": "code",
   "execution_count": 34,
   "id": "74953580-9b97-4a85-b3d6-8a524a39af78",
   "metadata": {},
   "outputs": [
    {
     "data": {
      "text/plain": [
       "29"
      ]
     },
     "execution_count": 34,
     "metadata": {},
     "output_type": "execute_result"
    }
   ],
   "source": [
    "len(big_box)"
   ]
  },
  {
   "cell_type": "code",
   "execution_count": 41,
   "id": "2d75ffb2-e747-4bc2-94be-7d287786ba80",
   "metadata": {},
   "outputs": [],
   "source": [
    "# delete 0 to 3 index\n",
    "del big_box[0:3]"
   ]
  },
  {
   "cell_type": "code",
   "execution_count": 59,
   "id": "f851b6d3-3dcc-4218-b4f5-c7a7e0e01cf0",
   "metadata": {},
   "outputs": [
    {
     "data": {
      "text/plain": [
       "'https://www.flipkart.com/apple-iphone-12-pro-pacific-blue-512-gb/p/itmd89812b558a03?pid=MOBFWBYZTHSXKMGW&lid=LSTMOBFWBYZTHSXKMGWYPOFI5&marketplace=FLIPKART&q=iphone12pro&store=tyy%2F4io&srno=s_1_10&otracker=search&fm=organic&iid=f8a348dd-b8b9-4b0e-acbe-cdcf88cb21f7.MOBFWBYZTHSXKMGW.SEARCH&ppt=None&ppn=None&ssid=z6j2gsgr000000001739105662604&qH=712933e6bd68e7b9'"
      ]
     },
     "execution_count": 59,
     "metadata": {},
     "output_type": "execute_result"
    }
   ],
   "source": [
    "product_link ='https://www.flipkart.com'+ big_box[8].div.div.div.a['href']\n",
    "product_link"
   ]
  },
  {
   "cell_type": "code",
   "execution_count": 52,
   "id": "ecb4e02f-03b3-4776-b040-df2fe019b1bb",
   "metadata": {},
   "outputs": [],
   "source": [
    "product_req =requests.get(product_link)"
   ]
  },
  {
   "cell_type": "code",
   "execution_count": 56,
   "id": "9122f9df-b491-4aaf-913c-ad830e6e7ae0",
   "metadata": {},
   "outputs": [],
   "source": [
    "product_html = bs(product_req.text, 'html.parser')"
   ]
  },
  {
   "cell_type": "code",
   "execution_count": 95,
   "id": "708510e0-b058-43b6-9ab6-5f05c3db4ae5",
   "metadata": {},
   "outputs": [],
   "source": [
    "comment_box = product_html.find_all('div' , {'class':\"RcXBOT\"})"
   ]
  },
  {
   "cell_type": "code",
   "execution_count": 63,
   "id": "bf4797f9-c85f-42a1-a7c5-361b04c84c6d",
   "metadata": {},
   "outputs": [
    {
     "data": {
      "text/plain": [
       "11"
      ]
     },
     "execution_count": 63,
     "metadata": {},
     "output_type": "execute_result"
    }
   ],
   "source": [
    "len(comment_box)"
   ]
  },
  {
   "cell_type": "code",
   "execution_count": 75,
   "id": "71d8fc0e-2039-4865-801b-dc90b688113c",
   "metadata": {},
   "outputs": [
    {
     "data": {
      "text/plain": [
       "'Rajkumar tiwari'"
      ]
     },
     "execution_count": 75,
     "metadata": {},
     "output_type": "execute_result"
    }
   ],
   "source": [
    "comment_box[0].div.find_all('p',{'class':\"_2NsDsF AwS1CA\"})[0].text"
   ]
  },
  {
   "cell_type": "code",
   "execution_count": 77,
   "id": "0c95e327-24fa-48cc-9df0-3a1c71c82f1a",
   "metadata": {},
   "outputs": [
    {
     "name": "stdout",
     "output_type": "stream",
     "text": [
      "Rajkumar tiwari\n",
      "Tushar Saini\n",
      "Aasheesh Vats\n",
      "Pankaj Mahor\n",
      "Vinit Kar\n",
      "Rahul  Meena\n",
      "Salman Rahman\n",
      "Anveer arora\n",
      "Harsh Singh\n",
      "Rohit Unia\n"
     ]
    },
    {
     "ename": "AttributeError",
     "evalue": "'NoneType' object has no attribute 'find_all'",
     "output_type": "error",
     "traceback": [
      "\u001b[1;31m---------------------------------------------------------------------------\u001b[0m",
      "\u001b[1;31mAttributeError\u001b[0m                            Traceback (most recent call last)",
      "Cell \u001b[1;32mIn[77], line 2\u001b[0m\n\u001b[0;32m      1\u001b[0m \u001b[38;5;28;01mfor\u001b[39;00m i \u001b[38;5;129;01min\u001b[39;00m comment_box:\n\u001b[1;32m----> 2\u001b[0m     \u001b[38;5;28mprint\u001b[39m(\u001b[43mi\u001b[49m\u001b[38;5;241;43m.\u001b[39;49m\u001b[43mdiv\u001b[49m\u001b[38;5;241;43m.\u001b[39;49m\u001b[43mfind_all\u001b[49m(\u001b[38;5;124m'\u001b[39m\u001b[38;5;124mp\u001b[39m\u001b[38;5;124m'\u001b[39m,{\u001b[38;5;124m'\u001b[39m\u001b[38;5;124mclass\u001b[39m\u001b[38;5;124m'\u001b[39m:\u001b[38;5;124m\"\u001b[39m\u001b[38;5;124m_2NsDsF AwS1CA\u001b[39m\u001b[38;5;124m\"\u001b[39m})[\u001b[38;5;241m0\u001b[39m]\u001b[38;5;241m.\u001b[39mtext)\n",
      "\u001b[1;31mAttributeError\u001b[0m: 'NoneType' object has no attribute 'find_all'"
     ]
    }
   ],
   "source": [
    "for i in comment_box:\n",
    "    print(i.div.find_all('p',{'class':\"_2NsDsF AwS1CA\"})[0].text)"
   ]
  },
  {
   "cell_type": "code",
   "execution_count": 99,
   "id": "c3d3a80d-d507-4852-9b97-2919cd7e14a7",
   "metadata": {},
   "outputs": [
    {
     "data": {
      "text/plain": [
       "'5'"
      ]
     },
     "execution_count": 99,
     "metadata": {},
     "output_type": "execute_result"
    }
   ],
   "source": [
    "# comment_box[0].div.div.div.div.text\n",
    "comment_box[0].div.find_all('div', {'class':\"XQDdHH Ga3i8K\"})[0].text"
   ]
  },
  {
   "cell_type": "code",
   "execution_count": 84,
   "id": "a90d949d-8d9b-4b06-bab1-77aec360ae50",
   "metadata": {},
   "outputs": [
    {
     "name": "stdout",
     "output_type": "stream",
     "text": [
      "5\n",
      "5\n",
      "5\n",
      "5\n",
      "5\n",
      "5\n",
      "5\n",
      "5\n",
      "5\n",
      "5\n"
     ]
    },
    {
     "ename": "AttributeError",
     "evalue": "'NoneType' object has no attribute 'find_all'",
     "output_type": "error",
     "traceback": [
      "\u001b[1;31m---------------------------------------------------------------------------\u001b[0m",
      "\u001b[1;31mAttributeError\u001b[0m                            Traceback (most recent call last)",
      "Cell \u001b[1;32mIn[84], line 2\u001b[0m\n\u001b[0;32m      1\u001b[0m \u001b[38;5;28;01mfor\u001b[39;00m i \u001b[38;5;129;01min\u001b[39;00m comment_box:\n\u001b[1;32m----> 2\u001b[0m     \u001b[38;5;28mprint\u001b[39m(\u001b[43mi\u001b[49m\u001b[38;5;241;43m.\u001b[39;49m\u001b[43mdiv\u001b[49m\u001b[38;5;241;43m.\u001b[39;49m\u001b[43mfind_all\u001b[49m(\u001b[38;5;124m'\u001b[39m\u001b[38;5;124mdiv\u001b[39m\u001b[38;5;124m'\u001b[39m, {\u001b[38;5;124m'\u001b[39m\u001b[38;5;124mclass\u001b[39m\u001b[38;5;124m'\u001b[39m:\u001b[38;5;124m\"\u001b[39m\u001b[38;5;124mXQDdHH Ga3i8K\u001b[39m\u001b[38;5;124m\"\u001b[39m})[\u001b[38;5;241m0\u001b[39m]\u001b[38;5;241m.\u001b[39mtext)\n",
      "\u001b[1;31mAttributeError\u001b[0m: 'NoneType' object has no attribute 'find_all'"
     ]
    }
   ],
   "source": [
    "for i in comment_box:\n",
    "    print(i.div.find_all('div', {'class':\"XQDdHH Ga3i8K\"})[0].text)"
   ]
  },
  {
   "cell_type": "code",
   "execution_count": 94,
   "id": "1150c1fe-3099-4e95-a416-99965c2d01b6",
   "metadata": {},
   "outputs": [
    {
     "name": "stdout",
     "output_type": "stream",
     "text": [
      "['indeed a great phone feels premium in hand but battery life is lowREAD MORE']\n",
      "['The camera is mind-blowing I love it 😘READ MORE']\n",
      "['A masterpiece to cherish.READ MORE']\n",
      "['Best designed iPhoneREAD MORE']\n",
      "['I have been using iPhones for years, but the fast charging and battery on this one is brilliant. Like i always say, iPhone is more of a jewellery than a phone. But this one has some power-packed features and an awesome camera. So if you can afford it, buy it!READ MORE']\n",
      "['I like the most in this phone:-1. I like the size of this phone because it is easy to hold.2. The camera quality of this phone is admirable. 3. Battery backup is good.4. The new design and colour  of this phone also a plus point of its beauty.5. These  points are my personal which i like most in this phone.READ MORE']\n",
      "['This one of the best iPhone ever built, though battery backup isn’t good. But the user experience is brilliant.Upgraded from 11 Pro.READ MORE']\n",
      "['I purchased this phone 4 my wife.i give her surprised gift.she was so happy that her tears came when she saw this gift☺️.Some reviews after 4 days use1. Looks awesome 👌2. Camera quality superb❤️3. Battery avarage normal🤟4. According 2 price its below avarage 🤏5. Performance no 1👍READ MORE']\n",
      "['Premium quality iPhone💯READ MORE']\n",
      "['Amazing 😍👌READ MORE']\n"
     ]
    },
    {
     "ename": "AttributeError",
     "evalue": "'NoneType' object has no attribute 'find_all'",
     "output_type": "error",
     "traceback": [
      "\u001b[1;31m---------------------------------------------------------------------------\u001b[0m",
      "\u001b[1;31mAttributeError\u001b[0m                            Traceback (most recent call last)",
      "Cell \u001b[1;32mIn[94], line 2\u001b[0m\n\u001b[0;32m      1\u001b[0m \u001b[38;5;28;01mfor\u001b[39;00m i \u001b[38;5;129;01min\u001b[39;00m comment_box:\n\u001b[1;32m----> 2\u001b[0m     \u001b[38;5;28mprint\u001b[39m([\u001b[43mi\u001b[49m\u001b[38;5;241;43m.\u001b[39;49m\u001b[43mdiv\u001b[49m\u001b[38;5;241;43m.\u001b[39;49m\u001b[43mfind_all\u001b[49m(\u001b[38;5;124m'\u001b[39m\u001b[38;5;124mdiv\u001b[39m\u001b[38;5;124m'\u001b[39m ,{\u001b[38;5;124m'\u001b[39m\u001b[38;5;124mclass\u001b[39m\u001b[38;5;124m'\u001b[39m:\u001b[38;5;124m'\u001b[39m\u001b[38;5;124m'\u001b[39m})[\u001b[38;5;241m0\u001b[39m]\u001b[38;5;241m.\u001b[39mtext])\n",
      "\u001b[1;31mAttributeError\u001b[0m: 'NoneType' object has no attribute 'find_all'"
     ]
    }
   ],
   "source": [
    "for i in comment_box:\n",
    "    print([i.div.find_all('div' ,{'class':''})[0].text])"
   ]
  },
  {
   "cell_type": "code",
   "execution_count": 121,
   "id": "e73a2685-96ce-4b18-8307-322f39c9493c",
   "metadata": {},
   "outputs": [
    {
     "data": {
      "text/plain": [
       "[<div class=\"Be4x5X d517go\" style=\"background-image:url(https://rukminim1.flixcart.com/blobio/124/124/imr-202105/blobio-imr-202105_218937a29a45459c9c6f56e264d7c733.jpg?q=90), url(data:image/svg+xml;base64,PHN2ZyB3aWR0aD0iMjIiIGhlaWdodD0iMTgiIHhtbG5zPSJodHRwOi8vd3d3LnczLm9yZy8yMDAwL3N2ZyI+PGcgZmlsbD0iIzlEOUQ5RCIgZmlsbC1ydWxlPSJub256ZXJvIj48cGF0aCBkPSJNMjAgMEgyQzEgMCAwIDEgMCAydjE0YzAgMS4xLjkgMiAyIDJoMThjMSAwIDItMSAyLTJWMmMwLTEtMS0yLTItMnptMCAxNS45MmMtLjAyLjAzLS4wNi4wNi0uMDguMDhIMlYyLjA4TDIuMDggMmgxNy44M2MuMDMuMDIuMDYuMDYuMDguMDh2MTMuODRIMjB6Ii8+PHBhdGggZD0iTTEwIDEyLjUxTDcuNSA5LjUgNCAxNGgxNGwtNC41LTZ6Ii8+PC9nPjwvc3ZnPg==);width:62px;height:62px\"></div>]"
      ]
     },
     "execution_count": 121,
     "metadata": {},
     "output_type": "execute_result"
    }
   ],
   "source": [
    "comment_box[0].div.find_all('div', {'class':'Be4x5X d517go'})"
   ]
  },
  {
   "cell_type": "code",
   "execution_count": 48,
   "id": "7f944167-a648-4142-bd9f-68c8a1681511",
   "metadata": {},
   "outputs": [
    {
     "name": "stdout",
     "output_type": "stream",
     "text": [
      "https://www.flipkart.com/apple-iphone-12-pro-max-graphite-128-gb/p/itm03e5f2595d843?pid=MOBFWBYZFDGQSDWS&lid=LSTMOBFWBYZFDGQSDWSWMBEA6&marketplace=FLIPKART&q=iphone12pro&store=tyy%2F4io&srno=s_1_2&otracker=search&fm=organic&iid=f8a348dd-b8b9-4b0e-acbe-cdcf88cb21f7.MOBFWBYZFDGQSDWS.SEARCH&ppt=None&ppn=None&ssid=z6j2gsgr000000001739105662604&qH=712933e6bd68e7b9\n",
      "https://www.flipkart.com/apple-iphone-12-pro-max-silver-256-gb/p/itm30faf74442adb?pid=MOBFWBYZZH4AM8FE&lid=LSTMOBFWBYZZH4AM8FETYFBOG&marketplace=FLIPKART&q=iphone12pro&store=tyy%2F4io&srno=s_1_3&otracker=search&fm=organic&iid=f8a348dd-b8b9-4b0e-acbe-cdcf88cb21f7.MOBFWBYZZH4AM8FE.SEARCH&ppt=None&ppn=None&ssid=z6j2gsgr000000001739105662604&qH=712933e6bd68e7b9\n",
      "https://www.flipkart.com/apple-iphone-12-pro-gold-256-gb/p/itm1e0354f5bbc8c?pid=MOBFWBYZ9NGKZS9W&lid=LSTMOBFWBYZ9NGKZS9WYZ2SXA&marketplace=FLIPKART&q=iphone12pro&store=tyy%2F4io&srno=s_1_4&otracker=search&fm=organic&iid=f8a348dd-b8b9-4b0e-acbe-cdcf88cb21f7.MOBFWBYZ9NGKZS9W.SEARCH&ppt=None&ppn=None&ssid=z6j2gsgr000000001739105662604&qH=712933e6bd68e7b9\n",
      "https://www.flipkart.com/apple-iphone-12-pro-graphite-128-gb/p/itm03e5f2595d843?pid=MOBFWBYZBZ7Y56WD&lid=LSTMOBFWBYZBZ7Y56WDLRWIKS&marketplace=FLIPKART&q=iphone12pro&store=tyy%2F4io&srno=s_1_5&otracker=search&fm=organic&iid=f8a348dd-b8b9-4b0e-acbe-cdcf88cb21f7.MOBFWBYZBZ7Y56WD.SEARCH&ppt=None&ppn=None&ssid=z6j2gsgr000000001739105662604&qH=712933e6bd68e7b9\n",
      "https://www.flipkart.com/apple-iphone-12-pro-max-silver-512-gb/p/itm30faf74442adb?pid=MOBFWBYZW38NGPNM&lid=LSTMOBFWBYZW38NGPNMW4SVPI&marketplace=FLIPKART&q=iphone12pro&store=tyy%2F4io&srno=s_1_6&otracker=search&fm=organic&iid=f8a348dd-b8b9-4b0e-acbe-cdcf88cb21f7.MOBFWBYZW38NGPNM.SEARCH&ppt=None&ppn=None&ssid=z6j2gsgr000000001739105662604&qH=712933e6bd68e7b9\n",
      "https://www.flipkart.com/apple-iphone-12-pro-gold-128-gb/p/itm1e0354f5bbc8c?pid=MOBFWBYZMDJZMHA9&lid=LSTMOBFWBYZMDJZMHA9SVNUXV&marketplace=FLIPKART&q=iphone12pro&store=tyy%2F4io&srno=s_1_7&otracker=search&fm=organic&iid=f8a348dd-b8b9-4b0e-acbe-cdcf88cb21f7.MOBFWBYZMDJZMHA9.SEARCH&ppt=None&ppn=None&ssid=z6j2gsgr000000001739105662604&qH=712933e6bd68e7b9\n",
      "https://www.flipkart.com/apple-iphone-12-pro-graphite-256-gb/p/itm03e5f2595d843?pid=MOBFWBYZBA36UB7G&lid=LSTMOBFWBYZBA36UB7GZYS7EA&marketplace=FLIPKART&q=iphone12pro&store=tyy%2F4io&srno=s_1_8&otracker=search&fm=organic&iid=f8a348dd-b8b9-4b0e-acbe-cdcf88cb21f7.MOBFWBYZBA36UB7G.SEARCH&ppt=None&ppn=None&ssid=z6j2gsgr000000001739105662604&qH=712933e6bd68e7b9\n",
      "https://www.flipkart.com/apple-iphone-12-pro-max-silver-128-gb/p/itm30faf74442adb?pid=MOBFWBYZNSNVGGZC&lid=LSTMOBFWBYZNSNVGGZCTPGZZU&marketplace=FLIPKART&q=iphone12pro&store=tyy%2F4io&srno=s_1_9&otracker=search&fm=organic&iid=f8a348dd-b8b9-4b0e-acbe-cdcf88cb21f7.MOBFWBYZNSNVGGZC.SEARCH&ppt=None&ppn=None&ssid=z6j2gsgr000000001739105662604&qH=712933e6bd68e7b9\n",
      "https://www.flipkart.com/apple-iphone-12-pro-pacific-blue-512-gb/p/itmd89812b558a03?pid=MOBFWBYZTHSXKMGW&lid=LSTMOBFWBYZTHSXKMGWYPOFI5&marketplace=FLIPKART&q=iphone12pro&store=tyy%2F4io&srno=s_1_10&otracker=search&fm=organic&iid=f8a348dd-b8b9-4b0e-acbe-cdcf88cb21f7.MOBFWBYZTHSXKMGW.SEARCH&ppt=None&ppn=None&ssid=z6j2gsgr000000001739105662604&qH=712933e6bd68e7b9\n",
      "https://www.flipkart.com/apple-iphone-12-pro-max-gold-512-gb/p/itm1e0354f5bbc8c?pid=MOBFWBYZ4AG3FGNW&lid=LSTMOBFWBYZ4AG3FGNWL6UEHL&marketplace=FLIPKART&q=iphone12pro&store=tyy%2F4io&srno=s_1_11&otracker=search&fm=organic&iid=f8a348dd-b8b9-4b0e-acbe-cdcf88cb21f7.MOBFWBYZ4AG3FGNW.SEARCH&ppt=None&ppn=None&ssid=z6j2gsgr000000001739105662604&qH=712933e6bd68e7b9\n",
      "https://www.flipkart.com/apple-iphone-12-pro-silver-512-gb/p/itm30faf74442adb?pid=MOBFWBYZ5UY6ZBVA&lid=LSTMOBFWBYZ5UY6ZBVAWNVLCR&marketplace=FLIPKART&q=iphone12pro&store=tyy%2F4io&srno=s_1_12&otracker=search&fm=organic&iid=f8a348dd-b8b9-4b0e-acbe-cdcf88cb21f7.MOBFWBYZ5UY6ZBVA.SEARCH&ppt=None&ppn=None&ssid=z6j2gsgr000000001739105662604&qH=712933e6bd68e7b9\n",
      "https://www.flipkart.com/apple-iphone-12-pro-max-pacific-blue-512-gb/p/itmd89812b558a03?pid=MOBFWBYZPW4KW4XX&lid=LSTMOBFWBYZPW4KW4XXXYHC14&marketplace=FLIPKART&q=iphone12pro&store=tyy%2F4io&srno=s_1_13&otracker=search&fm=organic&iid=f8a348dd-b8b9-4b0e-acbe-cdcf88cb21f7.MOBFWBYZPW4KW4XX.SEARCH&ppt=None&ppn=None&ssid=z6j2gsgr000000001739105662604&qH=712933e6bd68e7b9\n",
      "https://www.flipkart.com/apple-iphone-12-pro-silver-256-gb/p/itm30faf74442adb?pid=MOBFWBYZMZTJZTWK&lid=LSTMOBFWBYZMZTJZTWKDI2TP0&marketplace=FLIPKART&q=iphone12pro&store=tyy%2F4io&srno=s_1_14&otracker=search&fm=organic&iid=f8a348dd-b8b9-4b0e-acbe-cdcf88cb21f7.MOBFWBYZMZTJZTWK.SEARCH&ppt=None&ppn=None&ssid=z6j2gsgr000000001739105662604&qH=712933e6bd68e7b9\n",
      "https://www.flipkart.com/apple-iphone-12-pro-pacific-blue-256-gb/p/itmd89812b558a03?pid=MOBFWBYZVRPH2UCD&lid=LSTMOBFWBYZVRPH2UCDKBB2PK&marketplace=FLIPKART&q=iphone12pro&store=tyy%2F4io&srno=s_1_15&otracker=search&fm=organic&iid=f8a348dd-b8b9-4b0e-acbe-cdcf88cb21f7.MOBFWBYZVRPH2UCD.SEARCH&ppt=None&ppn=None&ssid=z6j2gsgr000000001739105662604&qH=712933e6bd68e7b9\n",
      "https://www.flipkart.com/apple-iphone-12-pro-max-pacific-blue-256-gb/p/itmd89812b558a03?pid=MOBFWBYZ8STJXCVT&lid=LSTMOBFWBYZ8STJXCVTQTZADP&marketplace=FLIPKART&q=iphone12pro&store=tyy%2F4io&srno=s_1_16&otracker=search&fm=organic&iid=f8a348dd-b8b9-4b0e-acbe-cdcf88cb21f7.MOBFWBYZ8STJXCVT.SEARCH&ppt=None&ppn=None&ssid=z6j2gsgr000000001739105662604&qH=712933e6bd68e7b9\n",
      "https://www.flipkart.com/apple-iphone-12-pro-max-gold-128-gb/p/itm1e0354f5bbc8c?pid=MOBFWBYZQVKT77YH&lid=LSTMOBFWBYZQVKT77YHP1ERRT&marketplace=FLIPKART&q=iphone12pro&store=tyy%2F4io&srno=s_1_17&otracker=search&fm=organic&iid=f8a348dd-b8b9-4b0e-acbe-cdcf88cb21f7.MOBFWBYZQVKT77YH.SEARCH&ppt=None&ppn=None&ssid=z6j2gsgr000000001739105662604&qH=712933e6bd68e7b9\n",
      "https://www.flipkart.com/apple-iphone-12-pro-max-graphite-512-gb/p/itm03e5f2595d843?pid=MOBFWBYZZZ6DWWFZ&lid=LSTMOBFWBYZZZ6DWWFZJWJVPK&marketplace=FLIPKART&q=iphone12pro&store=tyy%2F4io&srno=s_1_18&otracker=search&fm=organic&iid=f8a348dd-b8b9-4b0e-acbe-cdcf88cb21f7.MOBFWBYZZZ6DWWFZ.SEARCH&ppt=None&ppn=None&ssid=z6j2gsgr000000001739105662604&qH=712933e6bd68e7b9\n",
      "https://www.flipkart.com/apple-iphone-12-pro-gold-512-gb/p/itm1e0354f5bbc8c?pid=MOBFWBYZGKFYVTWH&lid=LSTMOBFWBYZGKFYVTWHR65UKC&marketplace=FLIPKART&q=iphone12pro&store=tyy%2F4io&srno=s_1_19&otracker=search&fm=organic&iid=f8a348dd-b8b9-4b0e-acbe-cdcf88cb21f7.MOBFWBYZGKFYVTWH.SEARCH&ppt=None&ppn=None&ssid=z6j2gsgr000000001739105662604&qH=712933e6bd68e7b9\n",
      "https://www.flipkart.com/apple-iphone-12-pro-max-graphite-256-gb/p/itm03e5f2595d843?pid=MOBFWBYZEF6XQ5ZW&lid=LSTMOBFWBYZEF6XQ5ZWBZ3ZKD&marketplace=FLIPKART&q=iphone12pro&store=tyy%2F4io&srno=s_1_20&otracker=search&fm=organic&iid=f8a348dd-b8b9-4b0e-acbe-cdcf88cb21f7.MOBFWBYZEF6XQ5ZW.SEARCH&ppt=None&ppn=None&ssid=z6j2gsgr000000001739105662604&qH=712933e6bd68e7b9\n",
      "https://www.flipkart.com/apple-iphone-12-pro-max-gold-256-gb/p/itm1e0354f5bbc8c?pid=MOBFWBYZZPW8JHQF&lid=LSTMOBFWBYZZPW8JHQFVJR3PO&marketplace=FLIPKART&q=iphone12pro&store=tyy%2F4io&srno=s_1_21&otracker=search&fm=organic&iid=f8a348dd-b8b9-4b0e-acbe-cdcf88cb21f7.MOBFWBYZZPW8JHQF.SEARCH&ppt=None&ppn=None&ssid=z6j2gsgr000000001739105662604&qH=712933e6bd68e7b9\n",
      "https://www.flipkart.com/apple-iphone-12-pro-graphite-512-gb/p/itm03e5f2595d843?pid=MOBFWBYZ4ZZ5VUQD&lid=LSTMOBFWBYZ4ZZ5VUQDSMPMJK&marketplace=FLIPKART&q=iphone12pro&store=tyy%2F4io&srno=s_1_22&otracker=search&fm=organic&iid=f8a348dd-b8b9-4b0e-acbe-cdcf88cb21f7.MOBFWBYZ4ZZ5VUQD.SEARCH&ppt=None&ppn=None&ssid=z6j2gsgr000000001739105662604&qH=712933e6bd68e7b9\n",
      "https://www.flipkart.com/apple-iphone-12-pro-pacific-blue-128-gb/p/itmd89812b558a03?pid=MOBFWBYZXYSCEEEH&lid=LSTMOBFWBYZXYSCEEEHLGQLJT&marketplace=FLIPKART&q=iphone12pro&store=tyy%2F4io&srno=s_1_23&otracker=search&fm=organic&iid=f8a348dd-b8b9-4b0e-acbe-cdcf88cb21f7.MOBFWBYZXYSCEEEH.SEARCH&ppt=None&ppn=None&ssid=z6j2gsgr000000001739105662604&qH=712933e6bd68e7b9\n",
      "https://www.flipkart.com/apple-iphone-12-pro-max-pacific-blue-128-gb/p/itmd89812b558a03?pid=MOBFWBYZZABKHZQA&lid=LSTMOBFWBYZZABKHZQATE6G93&marketplace=FLIPKART&q=iphone12pro&store=tyy%2F4io&srno=s_1_24&otracker=search&fm=organic&iid=f8a348dd-b8b9-4b0e-acbe-cdcf88cb21f7.MOBFWBYZZABKHZQA.SEARCH&ppt=None&ppn=None&ssid=z6j2gsgr000000001739105662604&qH=712933e6bd68e7b9\n"
     ]
    },
    {
     "ename": "AttributeError",
     "evalue": "'NoneType' object has no attribute 'a'",
     "output_type": "error",
     "traceback": [
      "\u001b[1;31m---------------------------------------------------------------------------\u001b[0m",
      "\u001b[1;31mAttributeError\u001b[0m                            Traceback (most recent call last)",
      "Cell \u001b[1;32mIn[48], line 4\u001b[0m\n\u001b[0;32m      1\u001b[0m \u001b[38;5;66;03m# for 29 url \u001b[39;00m\n\u001b[0;32m      3\u001b[0m \u001b[38;5;28;01mfor\u001b[39;00m i \u001b[38;5;129;01min\u001b[39;00m big_box:\n\u001b[1;32m----> 4\u001b[0m     \u001b[38;5;28mprint\u001b[39m(\u001b[38;5;124m'\u001b[39m\u001b[38;5;124mhttps://www.flipkart.com\u001b[39m\u001b[38;5;124m'\u001b[39m \u001b[38;5;241m+\u001b[39m\u001b[43mi\u001b[49m\u001b[38;5;241;43m.\u001b[39;49m\u001b[43mdiv\u001b[49m\u001b[38;5;241;43m.\u001b[39;49m\u001b[43mdiv\u001b[49m\u001b[38;5;241;43m.\u001b[39;49m\u001b[43mdiv\u001b[49m\u001b[38;5;241;43m.\u001b[39;49m\u001b[43ma\u001b[49m[\u001b[38;5;124m'\u001b[39m\u001b[38;5;124mhref\u001b[39m\u001b[38;5;124m'\u001b[39m])\n",
      "\u001b[1;31mAttributeError\u001b[0m: 'NoneType' object has no attribute 'a'"
     ]
    }
   ],
   "source": [
    "# for 29 url \n",
    "\n",
    "for i in big_box:\n",
    "    print('https://www.flipkart.com' +i.div.div.div.a['href'])"
   ]
  },
  {
   "cell_type": "code",
   "execution_count": null,
   "id": "791fe753-8739-4ea5-878b-2c087a594b1e",
   "metadata": {},
   "outputs": [],
   "source": []
  }
 ],
 "metadata": {
  "kernelspec": {
   "display_name": "Python 3 (ipykernel)",
   "language": "python",
   "name": "python3"
  },
  "language_info": {
   "codemirror_mode": {
    "name": "ipython",
    "version": 3
   },
   "file_extension": ".py",
   "mimetype": "text/x-python",
   "name": "python",
   "nbconvert_exporter": "python",
   "pygments_lexer": "ipython3",
   "version": "3.13.1"
  }
 },
 "nbformat": 4,
 "nbformat_minor": 5
}
